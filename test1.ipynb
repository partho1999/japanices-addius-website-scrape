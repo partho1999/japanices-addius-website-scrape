{
 "cells": [
  {
   "cell_type": "code",
   "execution_count": 3,
   "metadata": {},
   "outputs": [
    {
     "name": "stderr",
     "output_type": "stream",
     "text": [
      "C:\\Users\\AML-Bev-Partho\\AppData\\Local\\Temp\\ipykernel_18284\\1516479689.py:13: DeprecationWarning: executable_path has been deprecated, please pass in a Service object\n",
      "  driver = webdriver.Chrome(executable_path=\"E:\\Scraper\\chromedriver.exe\")\n"
     ]
    },
    {
     "ename": "TimeoutException",
     "evalue": "Message: timeout: Timed out receiving message from renderer: 298.419\n  (Session info: chrome=110.0.5481.178)\nStacktrace:\nBacktrace:\n\t(No symbol) [0x010537D3]\n\t(No symbol) [0x00FE8B81]\n\t(No symbol) [0x00EEB36D]\n\t(No symbol) [0x00EDD4D3]\n\t(No symbol) [0x00EDD241]\n\t(No symbol) [0x00EDBC95]\n\t(No symbol) [0x00EDC63A]\n\t(No symbol) [0x00EE5FE5]\n\t(No symbol) [0x00EF199E]\n\t(No symbol) [0x00EF4DD6]\n\t(No symbol) [0x00EDC993]\n\t(No symbol) [0x00EF1724]\n\t(No symbol) [0x00F51758]\n\t(No symbol) [0x00F3B216]\n\t(No symbol) [0x00F10D97]\n\t(No symbol) [0x00F1253D]\n\tGetHandleVerifier [0x012CABF2+2510930]\n\tGetHandleVerifier [0x012F8EC1+2700065]\n\tGetHandleVerifier [0x012FC86C+2714828]\n\tGetHandleVerifier [0x01103480+645344]\n\t(No symbol) [0x00FF0FD2]\n\t(No symbol) [0x00FF6C68]\n\t(No symbol) [0x00FF6D4B]\n\t(No symbol) [0x01000D6B]\n\tBaseThreadInitThunk [0x771E00F9+25]\n\tRtlGetAppContainerNamedObjectPath [0x77567BBE+286]\n\tRtlGetAppContainerNamedObjectPath [0x77567B8E+238]\n",
     "output_type": "error",
     "traceback": [
      "\u001b[1;31m---------------------------------------------------------------------------\u001b[0m",
      "\u001b[1;31mTimeoutException\u001b[0m                          Traceback (most recent call last)",
      "Cell \u001b[1;32mIn[3], line 16\u001b[0m\n\u001b[0;32m     12\u001b[0m \u001b[39m# Create webdriver object\u001b[39;00m\n\u001b[0;32m     13\u001b[0m driver \u001b[39m=\u001b[39m webdriver\u001b[39m.\u001b[39mChrome(executable_path\u001b[39m=\u001b[39m\u001b[39m\"\u001b[39m\u001b[39mE:\u001b[39m\u001b[39m\\\u001b[39m\u001b[39mScraper\u001b[39m\u001b[39m\\\u001b[39m\u001b[39mchromedriver.exe\u001b[39m\u001b[39m\"\u001b[39m)\n\u001b[1;32m---> 16\u001b[0m driver\u001b[39m.\u001b[39;49mget(\u001b[39m\"\u001b[39;49m\u001b[39mhttps://shop.adidas.jp/products/HB9386/\u001b[39;49m\u001b[39m\"\u001b[39;49m)\n\u001b[0;32m     18\u001b[0m \u001b[39mfor\u001b[39;00m j \u001b[39min\u001b[39;00m \u001b[39mrange\u001b[39m(\u001b[39m0\u001b[39m,\u001b[39m10\u001b[39m):\n\u001b[0;32m     19\u001b[0m     driver\u001b[39m.\u001b[39mexecute_script(\u001b[39m\"\u001b[39m\u001b[39mscrollBy(0,+500);\u001b[39m\u001b[39m\"\u001b[39m)\n",
      "File \u001b[1;32mc:\\Users\\AML-Bev-Partho\\AppData\\Local\\Programs\\Python\\Python310\\lib\\site-packages\\selenium\\webdriver\\remote\\webdriver.py:437\u001b[0m, in \u001b[0;36mWebDriver.get\u001b[1;34m(self, url)\u001b[0m\n\u001b[0;32m    433\u001b[0m \u001b[39mdef\u001b[39;00m \u001b[39mget\u001b[39m(\u001b[39mself\u001b[39m, url: \u001b[39mstr\u001b[39m) \u001b[39m-\u001b[39m\u001b[39m>\u001b[39m \u001b[39mNone\u001b[39;00m:\n\u001b[0;32m    434\u001b[0m     \u001b[39m\"\"\"\u001b[39;00m\n\u001b[0;32m    435\u001b[0m \u001b[39m    Loads a web page in the current browser session.\u001b[39;00m\n\u001b[0;32m    436\u001b[0m \u001b[39m    \"\"\"\u001b[39;00m\n\u001b[1;32m--> 437\u001b[0m     \u001b[39mself\u001b[39;49m\u001b[39m.\u001b[39;49mexecute(Command\u001b[39m.\u001b[39;49mGET, {\u001b[39m'\u001b[39;49m\u001b[39murl\u001b[39;49m\u001b[39m'\u001b[39;49m: url})\n",
      "File \u001b[1;32mc:\\Users\\AML-Bev-Partho\\AppData\\Local\\Programs\\Python\\Python310\\lib\\site-packages\\selenium\\webdriver\\remote\\webdriver.py:425\u001b[0m, in \u001b[0;36mWebDriver.execute\u001b[1;34m(self, driver_command, params)\u001b[0m\n\u001b[0;32m    423\u001b[0m response \u001b[39m=\u001b[39m \u001b[39mself\u001b[39m\u001b[39m.\u001b[39mcommand_executor\u001b[39m.\u001b[39mexecute(driver_command, params)\n\u001b[0;32m    424\u001b[0m \u001b[39mif\u001b[39;00m response:\n\u001b[1;32m--> 425\u001b[0m     \u001b[39mself\u001b[39;49m\u001b[39m.\u001b[39;49merror_handler\u001b[39m.\u001b[39;49mcheck_response(response)\n\u001b[0;32m    426\u001b[0m     response[\u001b[39m'\u001b[39m\u001b[39mvalue\u001b[39m\u001b[39m'\u001b[39m] \u001b[39m=\u001b[39m \u001b[39mself\u001b[39m\u001b[39m.\u001b[39m_unwrap_value(\n\u001b[0;32m    427\u001b[0m         response\u001b[39m.\u001b[39mget(\u001b[39m'\u001b[39m\u001b[39mvalue\u001b[39m\u001b[39m'\u001b[39m, \u001b[39mNone\u001b[39;00m))\n\u001b[0;32m    428\u001b[0m     \u001b[39mreturn\u001b[39;00m response\n",
      "File \u001b[1;32mc:\\Users\\AML-Bev-Partho\\AppData\\Local\\Programs\\Python\\Python310\\lib\\site-packages\\selenium\\webdriver\\remote\\errorhandler.py:247\u001b[0m, in \u001b[0;36mErrorHandler.check_response\u001b[1;34m(self, response)\u001b[0m\n\u001b[0;32m    245\u001b[0m         alert_text \u001b[39m=\u001b[39m value[\u001b[39m'\u001b[39m\u001b[39malert\u001b[39m\u001b[39m'\u001b[39m]\u001b[39m.\u001b[39mget(\u001b[39m'\u001b[39m\u001b[39mtext\u001b[39m\u001b[39m'\u001b[39m)\n\u001b[0;32m    246\u001b[0m     \u001b[39mraise\u001b[39;00m exception_class(message, screen, stacktrace, alert_text)  \u001b[39m# type: ignore[call-arg]  # mypy is not smart enough here\u001b[39;00m\n\u001b[1;32m--> 247\u001b[0m \u001b[39mraise\u001b[39;00m exception_class(message, screen, stacktrace)\n",
      "\u001b[1;31mTimeoutException\u001b[0m: Message: timeout: Timed out receiving message from renderer: 298.419\n  (Session info: chrome=110.0.5481.178)\nStacktrace:\nBacktrace:\n\t(No symbol) [0x010537D3]\n\t(No symbol) [0x00FE8B81]\n\t(No symbol) [0x00EEB36D]\n\t(No symbol) [0x00EDD4D3]\n\t(No symbol) [0x00EDD241]\n\t(No symbol) [0x00EDBC95]\n\t(No symbol) [0x00EDC63A]\n\t(No symbol) [0x00EE5FE5]\n\t(No symbol) [0x00EF199E]\n\t(No symbol) [0x00EF4DD6]\n\t(No symbol) [0x00EDC993]\n\t(No symbol) [0x00EF1724]\n\t(No symbol) [0x00F51758]\n\t(No symbol) [0x00F3B216]\n\t(No symbol) [0x00F10D97]\n\t(No symbol) [0x00F1253D]\n\tGetHandleVerifier [0x012CABF2+2510930]\n\tGetHandleVerifier [0x012F8EC1+2700065]\n\tGetHandleVerifier [0x012FC86C+2714828]\n\tGetHandleVerifier [0x01103480+645344]\n\t(No symbol) [0x00FF0FD2]\n\t(No symbol) [0x00FF6C68]\n\t(No symbol) [0x00FF6D4B]\n\t(No symbol) [0x01000D6B]\n\tBaseThreadInitThunk [0x771E00F9+25]\n\tRtlGetAppContainerNamedObjectPath [0x77567BBE+286]\n\tRtlGetAppContainerNamedObjectPath [0x77567B8E+238]\n"
     ]
    }
   ],
   "source": [
    "import requests\n",
    "from bs4 import BeautifulSoup\n",
    "from selenium import webdriver\n",
    "from selenium.webdriver.common.by import By\n",
    "from selenium.webdriver.support.wait import WebDriverWait\n",
    "from selenium.webdriver.support import expected_conditions as EC\n",
    "from selenium.common.exceptions import TimeoutException\n",
    "\n",
    "\n",
    "import time\n",
    "\n",
    "# Create webdriver object\n",
    "driver = webdriver.Chrome(executable_path=\"E:\\Scraper\\chromedriver.exe\")\n",
    "\n",
    "\n",
    "driver.get(\"https://shop.adidas.jp/products/HB9386/\")\n",
    "\n",
    "for j in range(0,10):\n",
    "    driver.execute_script(\"scrollBy(0,+500);\")\n",
    "    time.sleep(3)\n",
    "    driver.execute_script(\"scrollBy(0,-300);\")\n",
    "    time.sleep(3)\n",
    "    print(\"scrolling..\")\n",
    "try:\n",
    "    driver.find_element(By.XPATH,'//*[@id=\"__next\"]/div/div[1]/div[4]/main/div/div/div[2]/div[1]/div[2]/div[3]/div/div/div[1]/div/div[1]/ul/li/div').click()\n",
    "except:\n",
    "    try:\n",
    "        driver.find_element(By.CLASS_NAME,'coordinate_item_tile test-coordinate_item_tile add-selected').click()\n",
    "    except:\n",
    "        driver.quit()\n",
    "        print('Failed to click')\n",
    "soup=BeautifulSoup(driver.page_source,\"html.parser\")\n",
    "print(soup.title.text)\n",
    "\n",
    "for img in soup.find_all('table'):\n",
    "    print(img.get('class'))"
   ]
  }
 ],
 "metadata": {
  "kernelspec": {
   "display_name": "Python 3",
   "language": "python",
   "name": "python3"
  },
  "language_info": {
   "codemirror_mode": {
    "name": "ipython",
    "version": 3
   },
   "file_extension": ".py",
   "mimetype": "text/x-python",
   "name": "python",
   "nbconvert_exporter": "python",
   "pygments_lexer": "ipython3",
   "version": "3.10.8"
  },
  "orig_nbformat": 4
 },
 "nbformat": 4,
 "nbformat_minor": 2
}
