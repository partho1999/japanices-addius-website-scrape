{
 "cells": [
  {
   "cell_type": "code",
   "execution_count": 1,
   "metadata": {},
   "outputs": [
    {
     "name": "stderr",
     "output_type": "stream",
     "text": [
      "C:\\Users\\AML-Bev-Partho\\AppData\\Local\\Temp\\ipykernel_6900\\2153201902.py:13: DeprecationWarning: executable_path has been deprecated, please pass in a Service object\n",
      "  driver = webdriver.Chrome(executable_path=\"E:\\Scraper\\chromedriver.exe\")\n"
     ]
    },
    {
     "name": "stdout",
     "output_type": "stream",
     "text": [
      "scrolling..\n",
      "scrolling..\n",
      "scrolling..\n",
      "scrolling..\n",
      "scrolling..\n",
      "scrolling..\n",
      "scrolling..\n",
      "scrolling..\n",
      "scrolling..\n",
      "scrolling..\n"
     ]
    },
    {
     "ename": "ElementClickInterceptedException",
     "evalue": "Message: element click intercepted: Element <div role=\"button\" tabindex=\"0\" class=\"coordinate_item_tile test-coordinate_item_tile\" data-index=\"0\" data-articleid=\"HB9431\" data-price=\"10,989\" data-ga-event-action=\"click\" data-ga-event-category=\"pdp-coordinate\" data-ga-event-label=\"0-HB9431\">...</div> is not clickable at point (280, 80). Other element would receive the click: <a href=\"/kids/\" class=\"mainCategoryLink test-mainCategoryLink navigationLink fontColorWhite backgroundColorBlack css-12nq6k7\" data-ga-event-label=\"kids\" data-ga-event-action=\"click\" data-ga-event-category=\"header-gnavi\">...</a>\n  (Session info: chrome=110.0.5481.178)\nStacktrace:\nBacktrace:\n\t(No symbol) [0x00E837D3]\n\t(No symbol) [0x00E18B81]\n\t(No symbol) [0x00D1B36D]\n\t(No symbol) [0x00D54E3B]\n\t(No symbol) [0x00D526DB]\n\t(No symbol) [0x00D4FD0B]\n\t(No symbol) [0x00D4E4D8]\n\t(No symbol) [0x00D43253]\n\t(No symbol) [0x00D6B41C]\n\t(No symbol) [0x00D42B96]\n\t(No symbol) [0x00D6B774]\n\t(No symbol) [0x00D81215]\n\t(No symbol) [0x00D6B216]\n\t(No symbol) [0x00D40D97]\n\t(No symbol) [0x00D4253D]\n\tGetHandleVerifier [0x010FABF2+2510930]\n\tGetHandleVerifier [0x01128EC1+2700065]\n\tGetHandleVerifier [0x0112C86C+2714828]\n\tGetHandleVerifier [0x00F33480+645344]\n\t(No symbol) [0x00E20FD2]\n\t(No symbol) [0x00E26C68]\n\t(No symbol) [0x00E26D4B]\n\t(No symbol) [0x00E30D6B]\n\tBaseThreadInitThunk [0x771E00F9+25]\n\tRtlGetAppContainerNamedObjectPath [0x77567BBE+286]\n\tRtlGetAppContainerNamedObjectPath [0x77567B8E+238]\n",
     "output_type": "error",
     "traceback": [
      "\u001b[1;31m---------------------------------------------------------------------------\u001b[0m",
      "\u001b[1;31mElementClickInterceptedException\u001b[0m          Traceback (most recent call last)",
      "Cell \u001b[1;32mIn[1], line 34\u001b[0m\n\u001b[0;32m     32\u001b[0m         \u001b[39mexcept\u001b[39;00m:\n\u001b[0;32m     33\u001b[0m             \u001b[39mprint\u001b[39m(\u001b[39m'\u001b[39m\u001b[39mFailed to click\u001b[39m\u001b[39m'\u001b[39m)\n\u001b[1;32m---> 34\u001b[0m \u001b[39mif\u001b[39;00m button\u001b[39m.\u001b[39;49mclick():\n\u001b[0;32m     35\u001b[0m     \u001b[39mprint\u001b[39m(\u001b[39m'\u001b[39m\u001b[39mYess! its working...\u001b[39m\u001b[39m'\u001b[39m)\n\u001b[0;32m     36\u001b[0m soup\u001b[39m=\u001b[39mBeautifulSoup(driver\u001b[39m.\u001b[39mpage_source,\u001b[39m\"\u001b[39m\u001b[39mhtml.parser\u001b[39m\u001b[39m\"\u001b[39m)\n",
      "File \u001b[1;32mc:\\Users\\AML-Bev-Partho\\AppData\\Local\\Programs\\Python\\Python310\\lib\\site-packages\\selenium\\webdriver\\remote\\webelement.py:81\u001b[0m, in \u001b[0;36mWebElement.click\u001b[1;34m(self)\u001b[0m\n\u001b[0;32m     79\u001b[0m \u001b[39mdef\u001b[39;00m \u001b[39mclick\u001b[39m(\u001b[39mself\u001b[39m) \u001b[39m-\u001b[39m\u001b[39m>\u001b[39m \u001b[39mNone\u001b[39;00m:\n\u001b[0;32m     80\u001b[0m     \u001b[39m\"\"\"Clicks the element.\"\"\"\u001b[39;00m\n\u001b[1;32m---> 81\u001b[0m     \u001b[39mself\u001b[39;49m\u001b[39m.\u001b[39;49m_execute(Command\u001b[39m.\u001b[39;49mCLICK_ELEMENT)\n",
      "File \u001b[1;32mc:\\Users\\AML-Bev-Partho\\AppData\\Local\\Programs\\Python\\Python310\\lib\\site-packages\\selenium\\webdriver\\remote\\webelement.py:710\u001b[0m, in \u001b[0;36mWebElement._execute\u001b[1;34m(self, command, params)\u001b[0m\n\u001b[0;32m    708\u001b[0m     params \u001b[39m=\u001b[39m {}\n\u001b[0;32m    709\u001b[0m params[\u001b[39m'\u001b[39m\u001b[39mid\u001b[39m\u001b[39m'\u001b[39m] \u001b[39m=\u001b[39m \u001b[39mself\u001b[39m\u001b[39m.\u001b[39m_id\n\u001b[1;32m--> 710\u001b[0m \u001b[39mreturn\u001b[39;00m \u001b[39mself\u001b[39;49m\u001b[39m.\u001b[39;49m_parent\u001b[39m.\u001b[39;49mexecute(command, params)\n",
      "File \u001b[1;32mc:\\Users\\AML-Bev-Partho\\AppData\\Local\\Programs\\Python\\Python310\\lib\\site-packages\\selenium\\webdriver\\remote\\webdriver.py:425\u001b[0m, in \u001b[0;36mWebDriver.execute\u001b[1;34m(self, driver_command, params)\u001b[0m\n\u001b[0;32m    423\u001b[0m response \u001b[39m=\u001b[39m \u001b[39mself\u001b[39m\u001b[39m.\u001b[39mcommand_executor\u001b[39m.\u001b[39mexecute(driver_command, params)\n\u001b[0;32m    424\u001b[0m \u001b[39mif\u001b[39;00m response:\n\u001b[1;32m--> 425\u001b[0m     \u001b[39mself\u001b[39;49m\u001b[39m.\u001b[39;49merror_handler\u001b[39m.\u001b[39;49mcheck_response(response)\n\u001b[0;32m    426\u001b[0m     response[\u001b[39m'\u001b[39m\u001b[39mvalue\u001b[39m\u001b[39m'\u001b[39m] \u001b[39m=\u001b[39m \u001b[39mself\u001b[39m\u001b[39m.\u001b[39m_unwrap_value(\n\u001b[0;32m    427\u001b[0m         response\u001b[39m.\u001b[39mget(\u001b[39m'\u001b[39m\u001b[39mvalue\u001b[39m\u001b[39m'\u001b[39m, \u001b[39mNone\u001b[39;00m))\n\u001b[0;32m    428\u001b[0m     \u001b[39mreturn\u001b[39;00m response\n",
      "File \u001b[1;32mc:\\Users\\AML-Bev-Partho\\AppData\\Local\\Programs\\Python\\Python310\\lib\\site-packages\\selenium\\webdriver\\remote\\errorhandler.py:247\u001b[0m, in \u001b[0;36mErrorHandler.check_response\u001b[1;34m(self, response)\u001b[0m\n\u001b[0;32m    245\u001b[0m         alert_text \u001b[39m=\u001b[39m value[\u001b[39m'\u001b[39m\u001b[39malert\u001b[39m\u001b[39m'\u001b[39m]\u001b[39m.\u001b[39mget(\u001b[39m'\u001b[39m\u001b[39mtext\u001b[39m\u001b[39m'\u001b[39m)\n\u001b[0;32m    246\u001b[0m     \u001b[39mraise\u001b[39;00m exception_class(message, screen, stacktrace, alert_text)  \u001b[39m# type: ignore[call-arg]  # mypy is not smart enough here\u001b[39;00m\n\u001b[1;32m--> 247\u001b[0m \u001b[39mraise\u001b[39;00m exception_class(message, screen, stacktrace)\n",
      "\u001b[1;31mElementClickInterceptedException\u001b[0m: Message: element click intercepted: Element <div role=\"button\" tabindex=\"0\" class=\"coordinate_item_tile test-coordinate_item_tile\" data-index=\"0\" data-articleid=\"HB9431\" data-price=\"10,989\" data-ga-event-action=\"click\" data-ga-event-category=\"pdp-coordinate\" data-ga-event-label=\"0-HB9431\">...</div> is not clickable at point (280, 80). Other element would receive the click: <a href=\"/kids/\" class=\"mainCategoryLink test-mainCategoryLink navigationLink fontColorWhite backgroundColorBlack css-12nq6k7\" data-ga-event-label=\"kids\" data-ga-event-action=\"click\" data-ga-event-category=\"header-gnavi\">...</a>\n  (Session info: chrome=110.0.5481.178)\nStacktrace:\nBacktrace:\n\t(No symbol) [0x00E837D3]\n\t(No symbol) [0x00E18B81]\n\t(No symbol) [0x00D1B36D]\n\t(No symbol) [0x00D54E3B]\n\t(No symbol) [0x00D526DB]\n\t(No symbol) [0x00D4FD0B]\n\t(No symbol) [0x00D4E4D8]\n\t(No symbol) [0x00D43253]\n\t(No symbol) [0x00D6B41C]\n\t(No symbol) [0x00D42B96]\n\t(No symbol) [0x00D6B774]\n\t(No symbol) [0x00D81215]\n\t(No symbol) [0x00D6B216]\n\t(No symbol) [0x00D40D97]\n\t(No symbol) [0x00D4253D]\n\tGetHandleVerifier [0x010FABF2+2510930]\n\tGetHandleVerifier [0x01128EC1+2700065]\n\tGetHandleVerifier [0x0112C86C+2714828]\n\tGetHandleVerifier [0x00F33480+645344]\n\t(No symbol) [0x00E20FD2]\n\t(No symbol) [0x00E26C68]\n\t(No symbol) [0x00E26D4B]\n\t(No symbol) [0x00E30D6B]\n\tBaseThreadInitThunk [0x771E00F9+25]\n\tRtlGetAppContainerNamedObjectPath [0x77567BBE+286]\n\tRtlGetAppContainerNamedObjectPath [0x77567B8E+238]\n"
     ]
    }
   ],
   "source": [
    "import requests\n",
    "from bs4 import BeautifulSoup\n",
    "from selenium import webdriver\n",
    "from selenium.webdriver.common.by import By\n",
    "from selenium.webdriver.support.wait import WebDriverWait\n",
    "from selenium.webdriver.support import expected_conditions as EC\n",
    "from selenium.common.exceptions import TimeoutException\n",
    "\n",
    "\n",
    "import time\n",
    "\n",
    "# Create webdriver object\n",
    "driver = webdriver.Chrome(executable_path=\"E:\\Scraper\\chromedriver.exe\")\n",
    "\n",
    "\n",
    "driver.get(\"https://shop.adidas.jp/products/HB9386/\")\n",
    "\n",
    "for j in range(0,10):\n",
    "    driver.execute_script(\"scrollBy(0,+500);\")\n",
    "    time.sleep(3)\n",
    "    driver.execute_script(\"scrollBy(0,-300);\")\n",
    "    time.sleep(3)\n",
    "    print(\"scrolling..\")\n",
    "try:\n",
    "    button = driver.find_element(By.XPATH, '//*[@id=\"__next\"]/div/div[1]/div[4]/main/div/div/div[2]/div[1]/div[2]/div[3]/div/div/div[1]/div/div[1]/ul/li/div')\n",
    "except:\n",
    "    try:\n",
    "        button = driver.find_element(By.CSS_SELECTOR, '#__next > div > div.page.css-1umyepy > div.contentsWrapper > main > div > div > div.articleOverview.test-articleOverview > div.articleImageWrapper.clearfix.css-po7vxm > div.contentWrapper.clearfix > div.coordinateRecommend.js-componentsTabTarget.js-coordinate.clearfix.css-165jwpr > div > div > div.coordinateItems.css-vjspya > div > div.css-aa7iv5 > ul > li > div')\n",
    "    except:\n",
    "        try:\n",
    "            button = driver.find_element(By.PARTIAL_LINK_TEXT, \"10,989\")\n",
    "        except:\n",
    "            print('Failed to click')\n",
    "if button.click():\n",
    "    print('Yess! its working...')\n",
    "soup=BeautifulSoup(driver.page_source,\"html.parser\")\n",
    "print(soup.title.text)\n",
    "\n",
    "for img in soup.find_all('table'):\n",
    "    print(img.get('class'))"
   ]
  },
  {
   "cell_type": "code",
   "execution_count": 13,
   "metadata": {},
   "outputs": [
    {
     "ename": "NoSuchWindowException",
     "evalue": "Message: no such window: target window already closed\nfrom unknown error: web view not found\n  (Session info: chrome=110.0.5481.178)\nStacktrace:\nBacktrace:\n\t(No symbol) [0x010537D3]\n\t(No symbol) [0x00FE8B81]\n\t(No symbol) [0x00EEB36D]\n\t(No symbol) [0x00ECE5DA]\n\t(No symbol) [0x00F3F0CB]\n\t(No symbol) [0x00F50A56]\n\t(No symbol) [0x00F3B216]\n\t(No symbol) [0x00F10D97]\n\t(No symbol) [0x00F1253D]\n\tGetHandleVerifier [0x012CABF2+2510930]\n\tGetHandleVerifier [0x012F8EC1+2700065]\n\tGetHandleVerifier [0x012FC86C+2714828]\n\tGetHandleVerifier [0x01103480+645344]\n\t(No symbol) [0x00FF0FD2]\n\t(No symbol) [0x00FF6C68]\n\t(No symbol) [0x00FF6D4B]\n\t(No symbol) [0x01000D6B]\n\tBaseThreadInitThunk [0x771E00F9+25]\n\tRtlGetAppContainerNamedObjectPath [0x77567BBE+286]\n\tRtlGetAppContainerNamedObjectPath [0x77567B8E+238]\n",
     "output_type": "error",
     "traceback": [
      "\u001b[1;31m---------------------------------------------------------------------------\u001b[0m",
      "\u001b[1;31mNoSuchWindowException\u001b[0m                     Traceback (most recent call last)",
      "Cell \u001b[1;32mIn[13], line 1\u001b[0m\n\u001b[1;32m----> 1\u001b[0m driver\u001b[39m.\u001b[39;49mfind_element(By\u001b[39m.\u001b[39;49mCLASS_NAME,\u001b[39m'\u001b[39;49m\u001b[39mcoordinate_item_tile test-coordinate_item_tile\u001b[39;49m\u001b[39m'\u001b[39;49m)\u001b[39m.\u001b[39mclick()\n",
      "File \u001b[1;32mc:\\Users\\AML-Bev-Partho\\AppData\\Local\\Programs\\Python\\Python310\\lib\\site-packages\\selenium\\webdriver\\remote\\webdriver.py:1248\u001b[0m, in \u001b[0;36mWebDriver.find_element\u001b[1;34m(self, by, value)\u001b[0m\n\u001b[0;32m   1245\u001b[0m     by \u001b[39m=\u001b[39m By\u001b[39m.\u001b[39mCSS_SELECTOR\n\u001b[0;32m   1246\u001b[0m     value \u001b[39m=\u001b[39m \u001b[39m'\u001b[39m\u001b[39m[name=\u001b[39m\u001b[39m\"\u001b[39m\u001b[39m%s\u001b[39;00m\u001b[39m\"\u001b[39m\u001b[39m]\u001b[39m\u001b[39m'\u001b[39m \u001b[39m%\u001b[39m value\n\u001b[1;32m-> 1248\u001b[0m \u001b[39mreturn\u001b[39;00m \u001b[39mself\u001b[39;49m\u001b[39m.\u001b[39;49mexecute(Command\u001b[39m.\u001b[39;49mFIND_ELEMENT, {\n\u001b[0;32m   1249\u001b[0m     \u001b[39m'\u001b[39;49m\u001b[39musing\u001b[39;49m\u001b[39m'\u001b[39;49m: by,\n\u001b[0;32m   1250\u001b[0m     \u001b[39m'\u001b[39;49m\u001b[39mvalue\u001b[39;49m\u001b[39m'\u001b[39;49m: value})[\u001b[39m'\u001b[39m\u001b[39mvalue\u001b[39m\u001b[39m'\u001b[39m]\n",
      "File \u001b[1;32mc:\\Users\\AML-Bev-Partho\\AppData\\Local\\Programs\\Python\\Python310\\lib\\site-packages\\selenium\\webdriver\\remote\\webdriver.py:425\u001b[0m, in \u001b[0;36mWebDriver.execute\u001b[1;34m(self, driver_command, params)\u001b[0m\n\u001b[0;32m    423\u001b[0m response \u001b[39m=\u001b[39m \u001b[39mself\u001b[39m\u001b[39m.\u001b[39mcommand_executor\u001b[39m.\u001b[39mexecute(driver_command, params)\n\u001b[0;32m    424\u001b[0m \u001b[39mif\u001b[39;00m response:\n\u001b[1;32m--> 425\u001b[0m     \u001b[39mself\u001b[39;49m\u001b[39m.\u001b[39;49merror_handler\u001b[39m.\u001b[39;49mcheck_response(response)\n\u001b[0;32m    426\u001b[0m     response[\u001b[39m'\u001b[39m\u001b[39mvalue\u001b[39m\u001b[39m'\u001b[39m] \u001b[39m=\u001b[39m \u001b[39mself\u001b[39m\u001b[39m.\u001b[39m_unwrap_value(\n\u001b[0;32m    427\u001b[0m         response\u001b[39m.\u001b[39mget(\u001b[39m'\u001b[39m\u001b[39mvalue\u001b[39m\u001b[39m'\u001b[39m, \u001b[39mNone\u001b[39;00m))\n\u001b[0;32m    428\u001b[0m     \u001b[39mreturn\u001b[39;00m response\n",
      "File \u001b[1;32mc:\\Users\\AML-Bev-Partho\\AppData\\Local\\Programs\\Python\\Python310\\lib\\site-packages\\selenium\\webdriver\\remote\\errorhandler.py:247\u001b[0m, in \u001b[0;36mErrorHandler.check_response\u001b[1;34m(self, response)\u001b[0m\n\u001b[0;32m    245\u001b[0m         alert_text \u001b[39m=\u001b[39m value[\u001b[39m'\u001b[39m\u001b[39malert\u001b[39m\u001b[39m'\u001b[39m]\u001b[39m.\u001b[39mget(\u001b[39m'\u001b[39m\u001b[39mtext\u001b[39m\u001b[39m'\u001b[39m)\n\u001b[0;32m    246\u001b[0m     \u001b[39mraise\u001b[39;00m exception_class(message, screen, stacktrace, alert_text)  \u001b[39m# type: ignore[call-arg]  # mypy is not smart enough here\u001b[39;00m\n\u001b[1;32m--> 247\u001b[0m \u001b[39mraise\u001b[39;00m exception_class(message, screen, stacktrace)\n",
      "\u001b[1;31mNoSuchWindowException\u001b[0m: Message: no such window: target window already closed\nfrom unknown error: web view not found\n  (Session info: chrome=110.0.5481.178)\nStacktrace:\nBacktrace:\n\t(No symbol) [0x010537D3]\n\t(No symbol) [0x00FE8B81]\n\t(No symbol) [0x00EEB36D]\n\t(No symbol) [0x00ECE5DA]\n\t(No symbol) [0x00F3F0CB]\n\t(No symbol) [0x00F50A56]\n\t(No symbol) [0x00F3B216]\n\t(No symbol) [0x00F10D97]\n\t(No symbol) [0x00F1253D]\n\tGetHandleVerifier [0x012CABF2+2510930]\n\tGetHandleVerifier [0x012F8EC1+2700065]\n\tGetHandleVerifier [0x012FC86C+2714828]\n\tGetHandleVerifier [0x01103480+645344]\n\t(No symbol) [0x00FF0FD2]\n\t(No symbol) [0x00FF6C68]\n\t(No symbol) [0x00FF6D4B]\n\t(No symbol) [0x01000D6B]\n\tBaseThreadInitThunk [0x771E00F9+25]\n\tRtlGetAppContainerNamedObjectPath [0x77567BBE+286]\n\tRtlGetAppContainerNamedObjectPath [0x77567B8E+238]\n"
     ]
    }
   ],
   "source": [
    "driver.find_element(By.CLASS_NAME,'coordinate_item_tile test-coordinate_item_tile').click()"
   ]
  },
  {
   "cell_type": "code",
   "execution_count": null,
   "metadata": {},
   "outputs": [],
   "source": [
    "#coordinate title\n",
    "coordinate_title = soup.find(\"span\", {\"class\": \"titleWrapper\"})\n",
    "print(coordinate_title.text)\n",
    "\n",
    "#coordinator price\n",
    "cp_cnt =soup.find(\"div\", {\"class\": \"mdl-price test-Type2 css-izzs0m\"})\n",
    "coordinate_price = cp_cnt.find(\"span\", {\"class\": \"price-value test-price-salePrice-value\"})\n",
    "print(coordinate_price.text)\n",
    "\n",
    "# coordinator cnt\n",
    "image_wrapper= soup.find(\"div\", {\"class\": \"css-1dq7gyf\"})\n",
    "#print(image_wrapper)\n",
    "\n",
    "# detail page URL\n",
    "for link in image_wrapper.find_all('a'):\n",
    "    print(link.get('href'))\n",
    "\n",
    "# img path\n",
    "for img in image_wrapper.find_all('img'):\n",
    "    print(img.get('src'))\n"
   ]
  }
 ],
 "metadata": {
  "kernelspec": {
   "display_name": "Python 3",
   "language": "python",
   "name": "python3"
  },
  "language_info": {
   "codemirror_mode": {
    "name": "ipython",
    "version": 3
   },
   "file_extension": ".py",
   "mimetype": "text/x-python",
   "name": "python",
   "nbconvert_exporter": "python",
   "pygments_lexer": "ipython3",
   "version": "3.10.8"
  },
  "orig_nbformat": 4
 },
 "nbformat": 4,
 "nbformat_minor": 2
}
