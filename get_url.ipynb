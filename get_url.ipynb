{
 "cells": [
  {
   "cell_type": "code",
   "execution_count": 22,
   "metadata": {},
   "outputs": [
    {
     "name": "stderr",
     "output_type": "stream",
     "text": [
      "C:\\Users\\AML-Bev-Partho\\AppData\\Local\\Temp\\ipykernel_13392\\1091173052.py:8: DeprecationWarning: executable_path has been deprecated, please pass in a Service object\n",
      "  driver = webdriver.Chrome(executable_path=\"E:\\Scraper\\chromedriver.exe\")\n"
     ]
    },
    {
     "name": "stdout",
     "output_type": "stream",
     "text": [
      "scrolling..\n",
      "scrolling..\n",
      "scrolling..\n",
      "scrolling..\n",
      "scrolling..\n",
      "scrolling..\n",
      "scrolling..\n",
      "scrolling..\n",
      "scrolling..\n",
      "scrolling..\n",
      "                        product_details_url\n",
      "0   https://shop.adidas.jp/products/GK8962/\n",
      "1   https://shop.adidas.jp/products/GK8962/\n",
      "2   https://shop.adidas.jp/products/HE6944/\n",
      "3   https://shop.adidas.jp/products/HE6944/\n",
      "4   https://shop.adidas.jp/products/GN2993/\n",
      "..                                      ...\n",
      "93  https://shop.adidas.jp/products/HR2378/\n",
      "94  https://shop.adidas.jp/products/HS5558/\n",
      "95  https://shop.adidas.jp/products/HS5558/\n",
      "96  https://shop.adidas.jp/products/IM1081/\n",
      "97  https://shop.adidas.jp/products/IM1081/\n",
      "\n",
      "[96 rows x 1 columns]\n"
     ]
    }
   ],
   "source": [
    "import requests\n",
    "from bs4 import BeautifulSoup\n",
    "import pandas as pd\n",
    "import time\n",
    "from selenium import webdriver\n",
    "\n",
    "# Create webdriver object\n",
    "driver = webdriver.Chrome(executable_path=\"E:\\Scraper\\chromedriver.exe\")\n",
    "\n",
    "driver.get('https://shop.adidas.jp/item/?category=accessories&gender=mens')\n",
    "# r = requests.get(url)\n",
    "# #print(r.text)\n",
    "\n",
    "for j in range(0,10):\n",
    "    driver.execute_script(\"scrollBy(0,+2000);\")\n",
    "    time.sleep(3)\n",
    "    driver.execute_script(\"scrollBy(0,-1000);\")\n",
    "    time.sleep(3)\n",
    "    print(\"scrolling..\")\n",
    "\n",
    "soup=BeautifulSoup(driver.page_source,\"html.parser\")\n",
    "\n",
    "\n",
    "product = soup.find(\"div\", {\"class\": \"test-articleDisplay css-1yuo7po\"})\n",
    "#print(product)\n",
    "\n",
    "product_url =[]\n",
    "for div in product.find_all('div'):\n",
    "    #print(div)\n",
    "    for link in div.find_all('a'):\n",
    "        #print(link.get('href'))\n",
    "        product_url.append(\"https://shop.adidas.jp\" + link.get('href'))\n",
    "\n",
    "# for link in product.find_all('a'):\n",
    "#     product_url.append(\"https://shop.adidas.jp\" + link.get('href'))\n",
    "\n",
    "# #print(product_url)\n",
    "\n",
    "df = pd.DataFrame(product_url,  columns =['product_details_url'])\n",
    "df = df.drop(df[df['product_details_url']==\"https://shop.adidas.jp/adiclub/membersweek/\"].index)\n",
    "\n",
    "\n",
    "timestr = time.strftime(\"%Y%m%d-%H%M%S\")\n",
    "df.to_csv(\"product-details-url-list\"+\"-\"+timestr+\".csv\")\n",
    "print(df)"
   ]
  },
  {
   "cell_type": "code",
   "execution_count": null,
   "metadata": {},
   "outputs": [],
   "source": []
  }
 ],
 "metadata": {
  "kernelspec": {
   "display_name": "Python 3",
   "language": "python",
   "name": "python3"
  },
  "language_info": {
   "codemirror_mode": {
    "name": "ipython",
    "version": 3
   },
   "file_extension": ".py",
   "mimetype": "text/x-python",
   "name": "python",
   "nbconvert_exporter": "python",
   "pygments_lexer": "ipython3",
   "version": "3.10.8"
  },
  "orig_nbformat": 4
 },
 "nbformat": 4,
 "nbformat_minor": 2
}
