{
 "cells": [
  {
   "cell_type": "code",
   "execution_count": null,
   "metadata": {},
   "outputs": [],
   "source": [
    "!pip install requests\n",
    "!pip install beautifulsoup4\n",
    "!pip install pandas\n",
    "!pip install pandas lxml"
   ]
  },
  {
   "cell_type": "code",
   "execution_count": 2,
   "metadata": {},
   "outputs": [],
   "source": [
    "\n"
   ]
  },
  {
   "cell_type": "code",
   "execution_count": 4,
   "metadata": {},
   "outputs": [],
   "source": [
    "from bs4 import BeautifulSoup\n",
    "import pandas as pd\n",
    "import requests\n",
    "from selenium import webdriver\n",
    "from selenium.webdriver.common.by import By\n",
    "from selenium.webdriver.support.wait import WebDriverWait\n",
    "from selenium.webdriver.support import expected_conditions as EC\n",
    "from selenium.common.exceptions import TimeoutException\n",
    "import time"
   ]
  },
  {
   "cell_type": "code",
   "execution_count": 3,
   "metadata": {},
   "outputs": [],
   "source": [
    "#headers = {'User-Agent': 'Mozilla/5.0 (Windows NT 10.0; Win64; x64) AppleWebKit/537.36 (KHTML, like Gecko) Chrome/89.0.4389.82 Safari/537.36'}"
   ]
  },
  {
   "cell_type": "code",
   "execution_count": 4,
   "metadata": {},
   "outputs": [],
   "source": [
    "# headers = {\n",
    "#     'authority': 'shop.adidas.jp',\n",
    "#     'cache-control': 'max-age=0',\n",
    "#     'rtt': '300',\n",
    "#     'downlink': '1.35',\n",
    "#     'ect': '3g',\n",
    "#     'sec-ch-ua': '\"Google Chrome\"; v=\"83\"',\n",
    "#     'sec-ch-ua-mobile': '?0',\n",
    "#     'upgrade-insecure-requests': '1',\n",
    "#     'user-agent': 'Mozilla/5.0 (Windows NT 10.0; Win64; x64) AppleWebKit/537.36 (KHTML, like Gecko) Chrome/83.0.4103.106 Safari/537.36',\n",
    "#     'accept': 'text/html,application/xhtml+xml,application/xml;q=0.9,image/webp,image/apng,*/*;q=0.8,application/signed-exchange;v=b3;q=0.9',\n",
    "#     'sec-fetch-site': 'none',\n",
    "#     'sec-fetch-mode': 'navigate',\n",
    "#     'sec-fetch-user': '?1',\n",
    "#     'sec-fetch-dest': 'document',\n",
    "#     'accept-language': 'en-GB,en-US;q=0.9,en;q=0.8',\n",
    "#     'cookie': 'aws-priv=eyJ2IjoxLCJldSI6MCwic3QiOjB9; session-id=139-7350741-1081713; ubid-main=135-9894765-6184621; lc-main=en_US; s_fid=0A4730DDD06B62E4-1DB478AB62143F35; regStatus=pre-register; x-main=hd2N9IEBuVL7il1dbkhEEHTQSf4Q7uviwjc2eikr0hRGGOyI2RYIiRsk3GvDKLSx; at-main=Atza|IwEBIJdoAZ4Y6j2IIGvC29t1ha634aK-p2kAl8rHhQRCSGMSU_nwQvM6fakAbYEjpVLPU4Jj0TwKvX70d6QnlouKPh0QwpHJG8rHUNVb-gmhS9shHM8fCJk45r1XW2FOSpLoM1iAO9kYIpOoW2M5We9xfdqlLuQBB-D5fQeO5Vqew4RnHesPNZuF4DQNlcqL7wrGjDY1JQKzlzARfATAuwaCy4jMD5bNmxpcWtTgNGrTtLpGv1Y-4Mnx2axxQYFgwpRNv_sPNZrMAfHdU7MX67HbyPyV3V21KAl8QNl0xE-lNl3myxnfyWH68Z5D-j501S7HWzkKxopy3SfGuwwZTjSVSVlnH4RmTwvEnW8W3tndcX6X1ETysYYXmO7TudIjtq7aUZqPBJe_MViePcWL3OV4q2b5; sess-at-main=\"TjcvTeXAA2dP6HOMGcG/n+Cdkr+peDBlNMOvfBz6oE0=\"; sst-main=Sst1|PQGR5AF9x4yS-iMft3B9aBzJC8v-e4M1kmB_3KS0pxtVTj1cH8hl3fajgigt6xEYhan-kUJuY5KNbteBgbiyDIRCs4ISve5MdRhDdoy7XKrVD1g5McZTyvdwYLfbTJbTUov51hOyPcE8BKpFL1bGpJiiJbZ0TV7Pyc6tkndogjneZATDErc4U08WE4LwPJxCiF-I-7Av4-JEfwH1ZQ81mz6rqy-K1o6bCMRRZ8kWuzrl0wobKsr4Sz0-m1K0waguIewhXNm4V4DLe8mn-_6I8_k9p9v3NiFRpp04v0Ptzw8V1ARo2U18t5f2nx54EXwHzvzOQlpeBVY2U0WpXDcKsU3C8Q; session-id-time=2082787201l; i18n-prefs=USD; x-wl-uid=1MwJyD7dRnGiVdHw1PKiwmoNP9S/0xy+3KAKCJl2fM5VOthLzEW3dzyeW4zdKAepcIxkXpJFkxWcafUXXcS0MeSyLyFoBkl3xnNPLiRK0Rq33AHw0gL3W1FDBUn9OcakOzJGVGKZRc5E=; s_vn=1614974634531%26vn%3D4; s_nr=1590823888871-Repeat; s_vnum=2022823888872%26vn%3D1; s_dslv=1590823888874; sp-cdn=\"L5Z9:FR\"; session-token=3AIPjoIrP8ITt1e/KXLZGSlnOPpirrWotNpCpCEfNRCY9mCfAV169URMcAX8XECtxt/qJujUn66Oyz8KIFDMieNmSdzEKA0K8I4AqbzplslzVGtZ6rNg+XsX/Bdc3hxnB7tUqQhrbrtVUncdzUMN1c95vhL7p+AEog3iiDkhLch0VO+Sl8HkAdZ/63xrp0stAaUsYo1GgsOFGI8+3wJUp4CHrJnoj/0lqjCJCpgXTZfxJcfWy9KarcGAPkno+fuMQqMoShJdi8R+DZ9XmIMib1bsLwXnerZa; csm-hit=tb:GVY0F2K4G05TXW59KB9M+s-GVY0F2K4G05TXW59KB9M|1592424615451&t:1592424615452&adb:adblk_yes',\n",
    "# }\n",
    "\n",
    "# params = (\n",
    "#     ('k', 'Python'),\n",
    "#     ('ref', 'nb_sb_noss'),\n",
    "# )"
   ]
  },
  {
   "attachments": {},
   "cell_type": "markdown",
   "metadata": {},
   "source": [
    "## page title"
   ]
  },
  {
   "cell_type": "code",
   "execution_count": 5,
   "metadata": {},
   "outputs": [
    {
     "name": "stdout",
     "output_type": "stream",
     "text": [
      "【アディダス公式通販】アディカラー クラシックス ファイヤーバード PRIMEBLUE トラックパンツ（ジャージ） [HB9386]｜オリジナルス ジャージ｜adidas オンラインショップ\n"
     ]
    }
   ],
   "source": [
    "# url = 'https://shop.adidas.jp/products/HB9386/'\n",
    "# r = requests.get(url, headers=headers, params=params)\n",
    "# #print(r.text)\n",
    "\n",
    "# soup = BeautifulSoup(r.text, 'html.parser')\n",
    "\n",
    "# print(soup.title.text)"
   ]
  },
  {
   "cell_type": "code",
   "execution_count": 2,
   "metadata": {},
   "outputs": [
    {
     "name": "stderr",
     "output_type": "stream",
     "text": [
      "C:\\Users\\AML-Bev-Partho\\AppData\\Local\\Temp\\ipykernel_17192\\999484256.py:1: DeprecationWarning: executable_path has been deprecated, please pass in a Service object\n",
      "  driver = webdriver.Chrome(executable_path=\"E:\\Scraper\\chromedriver.exe\")\n"
     ]
    },
    {
     "name": "stdout",
     "output_type": "stream",
     "text": [
      "scrolling..\n",
      "scrolling..\n",
      "scrolling..\n",
      "scrolling..\n",
      "scrolling..\n",
      "scrolling..\n",
      "scrolling..\n",
      "scrolling..\n",
      "scrolling..\n",
      "scrolling..\n",
      "【アディダス公式通販】アディカラー クラシックス ファイヤーバード PRIMEBLUE トラックパンツ（ジャージ） [HB9386]｜オリジナルス ジャージ｜adidas オンラインショップ\n",
      "['sizeChartTable']\n",
      "['sizeChartTable']\n"
     ]
    }
   ],
   "source": [
    "driver = webdriver.Chrome(executable_path=\"E:\\Scraper\\chromedriver.exe\")\n",
    "\n",
    "\n",
    "driver.get(\"https://shop.adidas.jp/products/HB9386/\")\n",
    "\n",
    "for j in range(0,10):\n",
    "    driver.execute_script(\"scrollBy(0,+500);\")\n",
    "    time.sleep(3)\n",
    "    driver.execute_script(\"scrollBy(0,-300);\")\n",
    "    time.sleep(3)\n",
    "    print(\"scrolling..\")\n",
    "\n",
    "\n",
    "\n",
    "soup=BeautifulSoup(driver.page_source,\"html.parser\")\n",
    "print(soup.title.text)\n",
    "\n",
    "for img in soup.find_all('table'):\n",
    "    print(img.get('class'))"
   ]
  },
  {
   "attachments": {},
   "cell_type": "markdown",
   "metadata": {},
   "source": [
    "## Image URL"
   ]
  },
  {
   "cell_type": "code",
   "execution_count": 7,
   "metadata": {},
   "outputs": [
    {
     "name": "stdout",
     "output_type": "stream",
     "text": [
      "['https://shop.adidas.jp/photo/HB/HB9386/s-HB9386-on_model-standard_view.jpg', 'https://shop.adidas.jp/photo/HB/HB9386/s-HB9386-on_model-side_view.jpg', 'https://shop.adidas.jp/photo/HB/HB9386/s-HB9386-on_model-back_view.jpg', 'https://shop.adidas.jp/photo/HB/HB9386/s-HB9386-on_model-walking_view.jpg', 'https://shop.adidas.jp/photo/HB/HB9386/s-HB9386-on_model-standard_outfit_view.jpg', 'https://shop.adidas.jp/photo/HB/HB9386/s-HB9386-3d_torso-front_center_view.jpg', 'https://shop.adidas.jp/photo/HB/HB9386/s-HB9386-on_model-detail_view_1.jpg', 'https://shop.adidas.jp/photo/HB/HB9386/s-HB9386-on_model-detail_view_2.jpg', 'https://shop.adidas.jp/photo/HB/HB9386/s-HB9386-on_model-detail_view_3.jpg']\n"
     ]
    },
    {
     "data": {
      "text/html": [
       "<div>\n",
       "<style scoped>\n",
       "    .dataframe tbody tr th:only-of-type {\n",
       "        vertical-align: middle;\n",
       "    }\n",
       "\n",
       "    .dataframe tbody tr th {\n",
       "        vertical-align: top;\n",
       "    }\n",
       "\n",
       "    .dataframe thead th {\n",
       "        text-align: right;\n",
       "    }\n",
       "</style>\n",
       "<table border=\"1\" class=\"dataframe\">\n",
       "  <thead>\n",
       "    <tr style=\"text-align: right;\">\n",
       "      <th></th>\n",
       "      <th>img_url</th>\n",
       "    </tr>\n",
       "  </thead>\n",
       "  <tbody>\n",
       "    <tr>\n",
       "      <th>0</th>\n",
       "      <td>https://shop.adidas.jp/photo/HB/HB9386/s-HB938...</td>\n",
       "    </tr>\n",
       "    <tr>\n",
       "      <th>1</th>\n",
       "      <td>https://shop.adidas.jp/photo/HB/HB9386/s-HB938...</td>\n",
       "    </tr>\n",
       "    <tr>\n",
       "      <th>2</th>\n",
       "      <td>https://shop.adidas.jp/photo/HB/HB9386/s-HB938...</td>\n",
       "    </tr>\n",
       "    <tr>\n",
       "      <th>3</th>\n",
       "      <td>https://shop.adidas.jp/photo/HB/HB9386/s-HB938...</td>\n",
       "    </tr>\n",
       "    <tr>\n",
       "      <th>4</th>\n",
       "      <td>https://shop.adidas.jp/photo/HB/HB9386/s-HB938...</td>\n",
       "    </tr>\n",
       "    <tr>\n",
       "      <th>5</th>\n",
       "      <td>https://shop.adidas.jp/photo/HB/HB9386/s-HB938...</td>\n",
       "    </tr>\n",
       "    <tr>\n",
       "      <th>6</th>\n",
       "      <td>https://shop.adidas.jp/photo/HB/HB9386/s-HB938...</td>\n",
       "    </tr>\n",
       "    <tr>\n",
       "      <th>7</th>\n",
       "      <td>https://shop.adidas.jp/photo/HB/HB9386/s-HB938...</td>\n",
       "    </tr>\n",
       "    <tr>\n",
       "      <th>8</th>\n",
       "      <td>https://shop.adidas.jp/photo/HB/HB9386/s-HB938...</td>\n",
       "    </tr>\n",
       "  </tbody>\n",
       "</table>\n",
       "</div>"
      ],
      "text/plain": [
       "                                             img_url\n",
       "0  https://shop.adidas.jp/photo/HB/HB9386/s-HB938...\n",
       "1  https://shop.adidas.jp/photo/HB/HB9386/s-HB938...\n",
       "2  https://shop.adidas.jp/photo/HB/HB9386/s-HB938...\n",
       "3  https://shop.adidas.jp/photo/HB/HB9386/s-HB938...\n",
       "4  https://shop.adidas.jp/photo/HB/HB9386/s-HB938...\n",
       "5  https://shop.adidas.jp/photo/HB/HB9386/s-HB938...\n",
       "6  https://shop.adidas.jp/photo/HB/HB9386/s-HB938...\n",
       "7  https://shop.adidas.jp/photo/HB/HB9386/s-HB938...\n",
       "8  https://shop.adidas.jp/photo/HB/HB9386/s-HB938..."
      ]
     },
     "execution_count": 7,
     "metadata": {},
     "output_type": "execute_result"
    }
   ],
   "source": [
    "# for img in soup.find_all('img'):\n",
    "#     print(img.get('class'))\n",
    "\n",
    "\n",
    "images = soup.find_all('img')\n",
    "\n",
    "#  Looking for the table with the classes 'wikitable' and 'sortable'\n",
    "im = soup.find_all('img', class_='test-main_image')\n",
    "#print(im)\n",
    "\n",
    "\n",
    "image = []\n",
    "for img in im:\n",
    "    image.append(\"https://shop.adidas.jp\" + img.get('src'))\n",
    "\n",
    "print(image)\n",
    "\n",
    "df = pd.DataFrame(image,  columns =['img_url'])\n",
    "timestr = time.strftime(\"%Y%m%d-%H%M%S\")\n",
    "df.to_csv(\"img-url\"+\"-\"+timestr+\".csv\")\n",
    "df"
   ]
  },
  {
   "attachments": {},
   "cell_type": "markdown",
   "metadata": {},
   "source": [
    "## Breadcrumb(Category)"
   ]
  },
  {
   "cell_type": "code",
   "execution_count": 6,
   "metadata": {},
   "outputs": [
    {
     "data": {
      "text/html": [
       "<div>\n",
       "<style scoped>\n",
       "    .dataframe tbody tr th:only-of-type {\n",
       "        vertical-align: middle;\n",
       "    }\n",
       "\n",
       "    .dataframe tbody tr th {\n",
       "        vertical-align: top;\n",
       "    }\n",
       "\n",
       "    .dataframe thead th {\n",
       "        text-align: right;\n",
       "    }\n",
       "</style>\n",
       "<table border=\"1\" class=\"dataframe\">\n",
       "  <thead>\n",
       "    <tr style=\"text-align: right;\">\n",
       "      <th></th>\n",
       "      <th>Breadcrumb(Category)</th>\n",
       "    </tr>\n",
       "  </thead>\n",
       "  <tbody>\n",
       "    <tr>\n",
       "      <th>0</th>\n",
       "      <td>戻る</td>\n",
       "    </tr>\n",
       "    <tr>\n",
       "      <th>1</th>\n",
       "      <td>トップ</td>\n",
       "    </tr>\n",
       "    <tr>\n",
       "      <th>2</th>\n",
       "      <td>ユニセックス</td>\n",
       "    </tr>\n",
       "    <tr>\n",
       "      <th>3</th>\n",
       "      <td>ウェア・服</td>\n",
       "    </tr>\n",
       "    <tr>\n",
       "      <th>4</th>\n",
       "      <td>ボトムス</td>\n",
       "    </tr>\n",
       "    <tr>\n",
       "      <th>5</th>\n",
       "      <td>ジャージ</td>\n",
       "    </tr>\n",
       "    <tr>\n",
       "      <th>6</th>\n",
       "      <td>オリジナルス</td>\n",
       "    </tr>\n",
       "    <tr>\n",
       "      <th>7</th>\n",
       "      <td>パーレイ</td>\n",
       "    </tr>\n",
       "    <tr>\n",
       "      <th>8</th>\n",
       "      <td>アディカラー クラシック</td>\n",
       "    </tr>\n",
       "    <tr>\n",
       "      <th>9</th>\n",
       "      <td>アディカラー クラシックス ファイヤーバード PRIMEBLUE トラックパンツ（ジャージ）</td>\n",
       "    </tr>\n",
       "  </tbody>\n",
       "</table>\n",
       "</div>"
      ],
      "text/plain": [
       "                             Breadcrumb(Category)\n",
       "0                                              戻る\n",
       "1                                             トップ\n",
       "2                                          ユニセックス\n",
       "3                                           ウェア・服\n",
       "4                                            ボトムス\n",
       "5                                            ジャージ\n",
       "6                                          オリジナルス\n",
       "7                                            パーレイ\n",
       "8                                    アディカラー クラシック\n",
       "9  アディカラー クラシックス ファイヤーバード PRIMEBLUE トラックパンツ（ジャージ）"
      ]
     },
     "execution_count": 6,
     "metadata": {},
     "output_type": "execute_result"
    }
   ],
   "source": [
    "catagory = soup.find(\"ul\", {\"class\": \"breadcrumbList clearfix test-breadcrumb css-2lfxqg\"})\n",
    "#print(catagory)\n",
    "b_cat_ul =[]\n",
    "for ul in catagory:\n",
    "  ul = ul.text.replace(\"iconArrowCircleLeft\",\"\")\n",
    "  b_cat_ul.append(ul)\n",
    "  # for li in ul.findAll('li'):\n",
    "  #     print(li)\n",
    "df = pd.DataFrame(b_cat_ul,  columns =['Breadcrumb(Category)'])\n",
    "timestr = time.strftime(\"%Y%m%d-%H%M%S\")\n",
    "df.to_csv('Breadcrumb(Category)'+'-'+timestr+'.csv')\n",
    "df"
   ]
  },
  {
   "attachments": {},
   "cell_type": "markdown",
   "metadata": {},
   "source": [
    "## Category"
   ]
  },
  {
   "cell_type": "code",
   "execution_count": 8,
   "metadata": {},
   "outputs": [
    {
     "name": "stdout",
     "output_type": "stream",
     "text": [
      "['オリジナルス']\n"
     ]
    }
   ],
   "source": [
    "cat = soup.find(\"span\", {\"class\": \"categoryName test-categoryName\"})\n",
    "\n",
    "cat_lst =[cat.text]\n",
    "print(cat_lst)"
   ]
  },
  {
   "attachments": {},
   "cell_type": "markdown",
   "metadata": {},
   "source": [
    "## Product Name"
   ]
  },
  {
   "cell_type": "code",
   "execution_count": 9,
   "metadata": {},
   "outputs": [
    {
     "name": "stdout",
     "output_type": "stream",
     "text": [
      "['アディカラー クラシックス ファイヤーバード PRIMEBLUE トラックパンツ（ジャージ）']\n"
     ]
    }
   ],
   "source": [
    "p_title = soup.find(\"h1\", {\"class\": \"itemTitle test-itemTitle\"})\n",
    "\n",
    "pro_t_lst =[p_title.text]\n",
    "print(pro_t_lst)"
   ]
  },
  {
   "attachments": {},
   "cell_type": "markdown",
   "metadata": {},
   "source": [
    "## Product Price"
   ]
  },
  {
   "cell_type": "code",
   "execution_count": 11,
   "metadata": {},
   "outputs": [
    {
     "name": "stdout",
     "output_type": "stream",
     "text": [
      "['9,889']\n"
     ]
    }
   ],
   "source": [
    "articlePrice =soup.find(\"div\", {\"class\": \"articlePrice test-articlePrice css-1apqb46\"})\n",
    "price = articlePrice.find(\"span\", {\"class\": \"price-value test-price-value\"})\n",
    "\n",
    "pro_price_lst =[price.text]\n",
    "print(pro_price_lst)"
   ]
  },
  {
   "cell_type": "code",
   "execution_count": 12,
   "metadata": {},
   "outputs": [
    {
     "data": {
      "text/html": [
       "<div>\n",
       "<style scoped>\n",
       "    .dataframe tbody tr th:only-of-type {\n",
       "        vertical-align: middle;\n",
       "    }\n",
       "\n",
       "    .dataframe tbody tr th {\n",
       "        vertical-align: top;\n",
       "    }\n",
       "\n",
       "    .dataframe thead th {\n",
       "        text-align: right;\n",
       "    }\n",
       "</style>\n",
       "<table border=\"1\" class=\"dataframe\">\n",
       "  <thead>\n",
       "    <tr style=\"text-align: right;\">\n",
       "      <th></th>\n",
       "      <th>Category</th>\n",
       "      <th>Product Name</th>\n",
       "      <th>Product Price</th>\n",
       "    </tr>\n",
       "  </thead>\n",
       "  <tbody>\n",
       "    <tr>\n",
       "      <th>0</th>\n",
       "      <td>オリジナルス</td>\n",
       "      <td>アディカラー クラシックス ファイヤーバード PRIMEBLUE トラックパンツ（ジャージ）</td>\n",
       "      <td>9,889</td>\n",
       "    </tr>\n",
       "  </tbody>\n",
       "</table>\n",
       "</div>"
      ],
      "text/plain": [
       "  Category                                    Product Name Product Price\n",
       "0   オリジナルス  アディカラー クラシックス ファイヤーバード PRIMEBLUE トラックパンツ（ジャージ）         9,889"
      ]
     },
     "execution_count": 12,
     "metadata": {},
     "output_type": "execute_result"
    }
   ],
   "source": [
    "\n",
    "  \n",
    "# dictionary of lists \n",
    "dict = {'Category': cat_lst, 'Product Name': pro_t_lst, 'Product Price': pro_price_lst} \n",
    "    \n",
    "df = pd.DataFrame(dict)\n",
    "timestr = time.strftime(\"%Y%m%d-%H%M%S\")    \n",
    "df.to_csv(\"product_details\"+\"-\"+timestr+\".csv\")\n",
    "df"
   ]
  },
  {
   "attachments": {},
   "cell_type": "markdown",
   "metadata": {},
   "source": [
    "## Available Size"
   ]
  },
  {
   "cell_type": "code",
   "execution_count": 13,
   "metadata": {},
   "outputs": [
    {
     "data": {
      "text/html": [
       "<div>\n",
       "<style scoped>\n",
       "    .dataframe tbody tr th:only-of-type {\n",
       "        vertical-align: middle;\n",
       "    }\n",
       "\n",
       "    .dataframe tbody tr th {\n",
       "        vertical-align: top;\n",
       "    }\n",
       "\n",
       "    .dataframe thead th {\n",
       "        text-align: right;\n",
       "    }\n",
       "</style>\n",
       "<table border=\"1\" class=\"dataframe\">\n",
       "  <thead>\n",
       "    <tr style=\"text-align: right;\">\n",
       "      <th></th>\n",
       "      <th>Available Size</th>\n",
       "    </tr>\n",
       "  </thead>\n",
       "  <tbody>\n",
       "    <tr>\n",
       "      <th>0</th>\n",
       "      <td>XS</td>\n",
       "    </tr>\n",
       "    <tr>\n",
       "      <th>1</th>\n",
       "      <td>S</td>\n",
       "    </tr>\n",
       "    <tr>\n",
       "      <th>2</th>\n",
       "      <td>M</td>\n",
       "    </tr>\n",
       "    <tr>\n",
       "      <th>3</th>\n",
       "      <td>L</td>\n",
       "    </tr>\n",
       "    <tr>\n",
       "      <th>4</th>\n",
       "      <td>O (XL)</td>\n",
       "    </tr>\n",
       "    <tr>\n",
       "      <th>5</th>\n",
       "      <td>XO (2XL)</td>\n",
       "    </tr>\n",
       "    <tr>\n",
       "      <th>6</th>\n",
       "      <td>2XO (3XL)</td>\n",
       "    </tr>\n",
       "    <tr>\n",
       "      <th>7</th>\n",
       "      <td>3XO (4XL)</td>\n",
       "    </tr>\n",
       "    <tr>\n",
       "      <th>8</th>\n",
       "      <td>4XO (5XL)</td>\n",
       "    </tr>\n",
       "  </tbody>\n",
       "</table>\n",
       "</div>"
      ],
      "text/plain": [
       "  Available Size\n",
       "0             XS\n",
       "1              S\n",
       "2              M\n",
       "3              L\n",
       "4         O (XL)\n",
       "5       XO (2XL)\n",
       "6      2XO (3XL)\n",
       "7      3XO (4XL)\n",
       "8      4XO (5XL)"
      ]
     },
     "execution_count": 13,
     "metadata": {},
     "output_type": "execute_result"
    }
   ],
   "source": [
    "size = soup.find(\"ul\", {\"class\": \"sizeSelectorList\"})\n",
    "#print(a_size)\n",
    "\n",
    "a_size_lst=[]\n",
    "for ul in size:\n",
    "  a_size_lst.append(ul.text)\n",
    "\n",
    "df = pd.DataFrame(a_size_lst,  columns =['Available Size'])\n",
    "timestr = time.strftime(\"%Y%m%d-%H%M%S\")\n",
    "df.to_csv('Available Size'+'-'+timestr+'.csv')\n",
    "df"
   ]
  },
  {
   "attachments": {},
   "cell_type": "markdown",
   "metadata": {},
   "source": [
    "## Sense of the Size"
   ]
  },
  {
   "cell_type": "code",
   "execution_count": 14,
   "metadata": {},
   "outputs": [
    {
     "data": {
      "text/html": [
       "<div>\n",
       "<style scoped>\n",
       "    .dataframe tbody tr th:only-of-type {\n",
       "        vertical-align: middle;\n",
       "    }\n",
       "\n",
       "    .dataframe tbody tr th {\n",
       "        vertical-align: top;\n",
       "    }\n",
       "\n",
       "    .dataframe thead th {\n",
       "        text-align: right;\n",
       "    }\n",
       "</style>\n",
       "<table border=\"1\" class=\"dataframe\">\n",
       "  <thead>\n",
       "    <tr style=\"text-align: right;\">\n",
       "      <th></th>\n",
       "      <th>Sense of the Size</th>\n",
       "    </tr>\n",
       "  </thead>\n",
       "  <tbody>\n",
       "    <tr>\n",
       "      <th>0</th>\n",
       "      <td>小さめ</td>\n",
       "    </tr>\n",
       "    <tr>\n",
       "      <th>1</th>\n",
       "      <td>適切</td>\n",
       "    </tr>\n",
       "    <tr>\n",
       "      <th>2</th>\n",
       "      <td>大きめ</td>\n",
       "    </tr>\n",
       "    <tr>\n",
       "      <th>3</th>\n",
       "      <td></td>\n",
       "    </tr>\n",
       "  </tbody>\n",
       "</table>\n",
       "</div>"
      ],
      "text/plain": [
       "  Sense of the Size\n",
       "0               小さめ\n",
       "1                適切\n",
       "2               大きめ\n",
       "3                  "
      ]
     },
     "execution_count": 14,
     "metadata": {},
     "output_type": "execute_result"
    }
   ],
   "source": [
    "sense_size = soup.find(\"div\", {\"class\": \"sizeFitBar css-zrdet1\"})\n",
    "\n",
    "s_size_lst=[]\n",
    "for t in sense_size.find_all(\"span\"):\n",
    "    s_size_lst.append(t.text)\n",
    "\n",
    "df = pd.DataFrame(s_size_lst,  columns =['Sense of the Size'])\n",
    "timestr = time.strftime(\"%Y%m%d-%H%M%S\")\n",
    "df.to_csv('Sense of the Size'+'-'+timestr+'.csv')\n",
    "df"
   ]
  },
  {
   "attachments": {},
   "cell_type": "markdown",
   "metadata": {},
   "source": [
    "## Coordinated Product"
   ]
  },
  {
   "attachments": {},
   "cell_type": "markdown",
   "metadata": {},
   "source": [
    "#### Coordinate Product Name"
   ]
  },
  {
   "cell_type": "code",
   "execution_count": null,
   "metadata": {},
   "outputs": [],
   "source": [
    "#coordinate title\n",
    "coordinate_title = soup.find(\"span\", {\"class\": \"titleWrapper\"})\n",
    "print(coordinate_title.text)\n",
    "\n",
    "#coordinator price\n",
    "cp_cnt =soup.find(\"div\", {\"class\": \"mdl-price test-Type2 css-izzs0m\"})\n",
    "coordinate_price = cp_cnt.find(\"span\", {\"class\": \"price-value test-price-salePrice-value\"})\n",
    "print(coordinate_price.text)\n",
    "\n",
    "# coordinator cnt\n",
    "image_wrapper= soup.find(\"div\", {\"class\": \"css-1dq7gyf\"})\n",
    "#print(image_wrapper)\n",
    "\n",
    "# detail page URL\n",
    "for link in image_wrapper.find_all('a'):\n",
    "    print(link.get('href'))\n",
    "\n",
    "# img path\n",
    "for img in image_wrapper.find_all('img'):\n",
    "    print(img.get('src'))"
   ]
  },
  {
   "cell_type": "code",
   "execution_count": 39,
   "metadata": {},
   "outputs": [
    {
     "name": "stdout",
     "output_type": "stream",
     "text": [
      "<div class=\"coordinate_item_tile test-coordinate_item_tile\" data-articleid=\"HB9431\" data-ga-event-action=\"click\" data-ga-event-category=\"pdp-coordinate\" data-ga-event-label=\"0-HB9431\" data-index=\"0\" data-price=\"10,989\" role=\"button\" tabindex=\"0\"><div class=\"coordinate_image\"><div class=\"articleBadge test-root badge test-badge css-1p3v6yy\" style=\"background: rgba(197, 54, 34, 0.8);\"><div class=\"articleBadgeText test-text test-badge-label\">会員限定10%OFF対象</div></div><img alt=\"アディカラー クラシックス ファイヤーバード トラックジャケット（ジャージ）\" class=\"coordinate_image_body test-img\" src=\"/photo/HB/HB9431/s-HB9431-on_model-front_view.jpg\"/><div class=\"coordinate_price\"><div class=\"mdl-price test-Type1 css-izzs0m\"><p class=\"price-text test-price-text\"><span class=\"price-value test-price-value\">10,989</span></p></div></div></div></div>\n"
     ]
    }
   ],
   "source": [
    "\n",
    "image_wrapper= soup.find(\"div\", {\"class\": \"coordinate_item_tile test-coordinate_item_tile\"})\n",
    "print(image_wrapper)\n"
   ]
  },
  {
   "attachments": {},
   "cell_type": "markdown",
   "metadata": {},
   "source": [
    "## Title of Description"
   ]
  },
  {
   "cell_type": "code",
   "execution_count": 15,
   "metadata": {},
   "outputs": [
    {
     "data": {
      "text/html": [
       "<div>\n",
       "<style scoped>\n",
       "    .dataframe tbody tr th:only-of-type {\n",
       "        vertical-align: middle;\n",
       "    }\n",
       "\n",
       "    .dataframe tbody tr th {\n",
       "        vertical-align: top;\n",
       "    }\n",
       "\n",
       "    .dataframe thead th {\n",
       "        text-align: right;\n",
       "    }\n",
       "</style>\n",
       "<table border=\"1\" class=\"dataframe\">\n",
       "  <thead>\n",
       "    <tr style=\"text-align: right;\">\n",
       "      <th></th>\n",
       "      <th>Title of Description</th>\n",
       "    </tr>\n",
       "  </thead>\n",
       "  <tbody>\n",
       "    <tr>\n",
       "      <th>0</th>\n",
       "      <td>モダンに蘇るファイヤバード トラックパンツ。</td>\n",
       "    </tr>\n",
       "  </tbody>\n",
       "</table>\n",
       "</div>"
      ],
      "text/plain": [
       "     Title of Description\n",
       "0  モダンに蘇るファイヤバード トラックパンツ。"
      ]
     },
     "execution_count": 15,
     "metadata": {},
     "output_type": "execute_result"
    }
   ],
   "source": [
    "title_des = soup.find(\"h4\", {\"class\": \"heading itemFeature test-commentItem-subheading\"})\n",
    "\n",
    "t_o_d_lst=[title_des.text]\n",
    "#print(t_o_d_lst)\n",
    "df = pd.DataFrame(t_o_d_lst,  columns =['Title of Description'])\n",
    "timestr = time.strftime(\"%Y%m%d-%H%M%S\")\n",
    "df.to_csv('Title of Description'+'-'+timestr+'.csv')\n",
    "df"
   ]
  },
  {
   "attachments": {},
   "cell_type": "markdown",
   "metadata": {},
   "source": [
    "## General Desciption of the product"
   ]
  },
  {
   "cell_type": "code",
   "execution_count": 16,
   "metadata": {},
   "outputs": [
    {
     "data": {
      "text/html": [
       "<div>\n",
       "<style scoped>\n",
       "    .dataframe tbody tr th:only-of-type {\n",
       "        vertical-align: middle;\n",
       "    }\n",
       "\n",
       "    .dataframe tbody tr th {\n",
       "        vertical-align: top;\n",
       "    }\n",
       "\n",
       "    .dataframe thead th {\n",
       "        text-align: right;\n",
       "    }\n",
       "</style>\n",
       "<table border=\"1\" class=\"dataframe\">\n",
       "  <thead>\n",
       "    <tr style=\"text-align: right;\">\n",
       "      <th></th>\n",
       "      <th>General Desciption of the product</th>\n",
       "    </tr>\n",
       "  </thead>\n",
       "  <tbody>\n",
       "    <tr>\n",
       "      <th>0</th>\n",
       "      <td>クラシックアイテムを一新。今季のファイヤーバード トラックパンツは、ビンテージの日本のデザイ...</td>\n",
       "    </tr>\n",
       "  </tbody>\n",
       "</table>\n",
       "</div>"
      ],
      "text/plain": [
       "                   General Desciption of the product\n",
       "0  クラシックアイテムを一新。今季のファイヤーバード トラックパンツは、ビンテージの日本のデザイ..."
      ]
     },
     "execution_count": 16,
     "metadata": {},
     "output_type": "execute_result"
    }
   ],
   "source": [
    "des = soup.find(\"div\", {\"class\": \"commentItem-mainText test-commentItem-mainText\"})\n",
    "g_d_o_t_p_lst=[des.text]\n",
    "df = pd.DataFrame(g_d_o_t_p_lst,  columns =['General Desciption of the product'])\n",
    "timestr = time.strftime(\"%Y%m%d-%H%M%S\")\n",
    "df.to_csv('General Desciption of the product'+'-'+timestr+'.csv')\n",
    "df"
   ]
  },
  {
   "attachments": {},
   "cell_type": "markdown",
   "metadata": {},
   "source": [
    "## General Discription (itemization)"
   ]
  },
  {
   "cell_type": "code",
   "execution_count": 17,
   "metadata": {},
   "outputs": [
    {
     "data": {
      "text/html": [
       "<div>\n",
       "<style scoped>\n",
       "    .dataframe tbody tr th:only-of-type {\n",
       "        vertical-align: middle;\n",
       "    }\n",
       "\n",
       "    .dataframe tbody tr th {\n",
       "        vertical-align: top;\n",
       "    }\n",
       "\n",
       "    .dataframe thead th {\n",
       "        text-align: right;\n",
       "    }\n",
       "</style>\n",
       "<table border=\"1\" class=\"dataframe\">\n",
       "  <thead>\n",
       "    <tr style=\"text-align: right;\">\n",
       "      <th></th>\n",
       "      <th>General Discription (itemization)</th>\n",
       "    </tr>\n",
       "  </thead>\n",
       "  <tbody>\n",
       "    <tr>\n",
       "      <th>0</th>\n",
       "      <td>レギュラーフィット</td>\n",
       "    </tr>\n",
       "    <tr>\n",
       "      <th>1</th>\n",
       "      <td>ドローコードが付いた伸縮性のウエスト</td>\n",
       "    </tr>\n",
       "    <tr>\n",
       "      <th>2</th>\n",
       "      <td>リサイクルポリエステル100％（トリコット）</td>\n",
       "    </tr>\n",
       "    <tr>\n",
       "      <th>3</th>\n",
       "      <td>厚手の生地</td>\n",
       "    </tr>\n",
       "    <tr>\n",
       "      <th>4</th>\n",
       "      <td>前にジップポケット</td>\n",
       "    </tr>\n",
       "    <tr>\n",
       "      <th>5</th>\n",
       "      <td>PRIMEBLUE</td>\n",
       "    </tr>\n",
       "    <tr>\n",
       "      <th>6</th>\n",
       "      <td>商品番号：HB9386</td>\n",
       "    </tr>\n",
       "    <tr>\n",
       "      <th>7</th>\n",
       "      <td>色：スカイラッシュ</td>\n",
       "    </tr>\n",
       "    <tr>\n",
       "      <th>8</th>\n",
       "      <td>生産国：Vietnam</td>\n",
       "    </tr>\n",
       "  </tbody>\n",
       "</table>\n",
       "</div>"
      ],
      "text/plain": [
       "  General Discription (itemization)\n",
       "0                         レギュラーフィット\n",
       "1                ドローコードが付いた伸縮性のウエスト\n",
       "2            リサイクルポリエステル100％（トリコット）\n",
       "3                             厚手の生地\n",
       "4                         前にジップポケット\n",
       "5                         PRIMEBLUE\n",
       "6                       商品番号：HB9386\n",
       "7                         色：スカイラッシュ\n",
       "8                       生産国：Vietnam"
      ]
     },
     "execution_count": 17,
     "metadata": {},
     "output_type": "execute_result"
    }
   ],
   "source": [
    "des_ul = soup.find(\"ul\", {\"class\": \"articleFeatures description_part css-1lxspbu\"})\n",
    "\n",
    "g_d_lst=[]\n",
    "for ul in des_ul:\n",
    "  g_d_lst.append(ul.text)\n",
    "\n",
    "df = pd.DataFrame(g_d_lst,  columns =['General Discription (itemization)'])\n",
    "timestr = time.strftime(\"%Y%m%d-%H%M%S\")\n",
    "df.to_csv('General Discription (itemization)'+'-'+timestr+'.csv')\n",
    "df"
   ]
  },
  {
   "attachments": {},
   "cell_type": "markdown",
   "metadata": {},
   "source": [
    "## Tale of Size"
   ]
  },
  {
   "cell_type": "code",
   "execution_count": 46,
   "metadata": {},
   "outputs": [],
   "source": [
    "sizetable0 =  soup.findAll('table', class_='sizeChartTable')[0]"
   ]
  },
  {
   "cell_type": "code",
   "execution_count": 47,
   "metadata": {},
   "outputs": [
    {
     "name": "stdout",
     "output_type": "stream",
     "text": [
      "\n",
      "ウエスト\n",
      "股下\n",
      "股上\n",
      "ヒップ\n",
      "裾回り\n",
      "パンツ丈\n"
     ]
    }
   ],
   "source": [
    "indexvalues = []\n",
    "for value in sizetable0.find_all('tr'):\n",
    "    print(value.text)\n",
    "    indexvalues.append(value.text)"
   ]
  },
  {
   "cell_type": "code",
   "execution_count": 48,
   "metadata": {},
   "outputs": [],
   "source": [
    "sizetable1 =  soup.findAll('table', class_='sizeChartTable')[1]"
   ]
  },
  {
   "cell_type": "code",
   "execution_count": 49,
   "metadata": {},
   "outputs": [],
   "source": [
    "import pandas as pd\n",
    "rows={}\n",
    "i = 0\n",
    "for value in sizetable1.findAll('tr'):\n",
    "    row_data=[]\n",
    "    for v in value.findAll('td'):\n",
    "        row_data.append(v.text)\n",
    "    if row_data:\n",
    "        rows[indexvalues[i]]=row_data\n",
    "    i+=1"
   ]
  },
  {
   "cell_type": "code",
   "execution_count": 50,
   "metadata": {},
   "outputs": [
    {
     "data": {
      "text/html": [
       "<div>\n",
       "<style scoped>\n",
       "    .dataframe tbody tr th:only-of-type {\n",
       "        vertical-align: middle;\n",
       "    }\n",
       "\n",
       "    .dataframe tbody tr th {\n",
       "        vertical-align: top;\n",
       "    }\n",
       "\n",
       "    .dataframe thead th {\n",
       "        text-align: right;\n",
       "    }\n",
       "</style>\n",
       "<table border=\"1\" class=\"dataframe\">\n",
       "  <thead>\n",
       "    <tr style=\"text-align: right;\">\n",
       "      <th></th>\n",
       "      <th>XS</th>\n",
       "      <th>S</th>\n",
       "      <th>M</th>\n",
       "      <th>L</th>\n",
       "      <th>O (XL)</th>\n",
       "      <th>XO (2XL)</th>\n",
       "      <th>2XO (3XL)</th>\n",
       "      <th>3XO (4XL)</th>\n",
       "      <th>4XO (5XL)</th>\n",
       "      <th>5XO (6XL)</th>\n",
       "      <th>6XO (7XL)</th>\n",
       "    </tr>\n",
       "  </thead>\n",
       "  <tbody>\n",
       "    <tr>\n",
       "      <th>ウエスト</th>\n",
       "      <td>60.5cm</td>\n",
       "      <td>64.5cm</td>\n",
       "      <td>68.5cm</td>\n",
       "      <td>72.5cm</td>\n",
       "      <td>76.5cm</td>\n",
       "      <td>80.5cm</td>\n",
       "      <td>84.5cm</td>\n",
       "      <td>88.5cm</td>\n",
       "      <td>92.5cm</td>\n",
       "      <td>96.5cm</td>\n",
       "      <td>100.5cm</td>\n",
       "    </tr>\n",
       "    <tr>\n",
       "      <th>股下</th>\n",
       "      <td>70.4cm</td>\n",
       "      <td>71.9cm</td>\n",
       "      <td>73.4cm</td>\n",
       "      <td>74.9cm</td>\n",
       "      <td>76.4cm</td>\n",
       "      <td>77.9cm</td>\n",
       "      <td>79.4cm</td>\n",
       "      <td>80.9cm</td>\n",
       "      <td>82.4cm</td>\n",
       "      <td>83.9cm</td>\n",
       "      <td>85.4cm</td>\n",
       "    </tr>\n",
       "    <tr>\n",
       "      <th>股上</th>\n",
       "      <td>24.7cm</td>\n",
       "      <td>25.7cm</td>\n",
       "      <td>26.7cm</td>\n",
       "      <td>27.7cm</td>\n",
       "      <td>28.7cm</td>\n",
       "      <td>29.7cm</td>\n",
       "      <td>30.7cm</td>\n",
       "      <td>31.7cm</td>\n",
       "      <td>32.7cm</td>\n",
       "      <td>33.7cm</td>\n",
       "      <td>34.7cm</td>\n",
       "    </tr>\n",
       "    <tr>\n",
       "      <th>ヒップ</th>\n",
       "      <td>95cm</td>\n",
       "      <td>99cm</td>\n",
       "      <td>103cm</td>\n",
       "      <td>107cm</td>\n",
       "      <td>111cm</td>\n",
       "      <td>115cm</td>\n",
       "      <td>119cm</td>\n",
       "      <td>123cm</td>\n",
       "      <td>127cm</td>\n",
       "      <td>131cm</td>\n",
       "      <td>135cm</td>\n",
       "    </tr>\n",
       "    <tr>\n",
       "      <th>裾回り</th>\n",
       "      <td>35cm</td>\n",
       "      <td>35.5cm</td>\n",
       "      <td>36.5cm</td>\n",
       "      <td>37.5cm</td>\n",
       "      <td>38.5cm</td>\n",
       "      <td>39.5cm</td>\n",
       "      <td>40.5cm</td>\n",
       "      <td>41.5cm</td>\n",
       "      <td>42.5cm</td>\n",
       "      <td>43.5cm</td>\n",
       "      <td>44.5cm</td>\n",
       "    </tr>\n",
       "    <tr>\n",
       "      <th>パンツ丈</th>\n",
       "      <td>93.9cm</td>\n",
       "      <td>96.4cm</td>\n",
       "      <td>98.9cm</td>\n",
       "      <td>101.4cm</td>\n",
       "      <td>103.9cm</td>\n",
       "      <td>106.4cm</td>\n",
       "      <td>108.9cm</td>\n",
       "      <td>111.4cm</td>\n",
       "      <td>113.9cm</td>\n",
       "      <td>116.4cm</td>\n",
       "      <td>118.9cm</td>\n",
       "    </tr>\n",
       "  </tbody>\n",
       "</table>\n",
       "</div>"
      ],
      "text/plain": [
       "          XS       S       M        L   O (XL) XO (2XL) 2XO (3XL) 3XO (4XL)  \\\n",
       "ウエスト  60.5cm  64.5cm  68.5cm   72.5cm   76.5cm   80.5cm    84.5cm    88.5cm   \n",
       "股下    70.4cm  71.9cm  73.4cm   74.9cm   76.4cm   77.9cm    79.4cm    80.9cm   \n",
       "股上    24.7cm  25.7cm  26.7cm   27.7cm   28.7cm   29.7cm    30.7cm    31.7cm   \n",
       "ヒップ     95cm    99cm   103cm    107cm    111cm    115cm     119cm     123cm   \n",
       "裾回り     35cm  35.5cm  36.5cm   37.5cm   38.5cm   39.5cm    40.5cm    41.5cm   \n",
       "パンツ丈  93.9cm  96.4cm  98.9cm  101.4cm  103.9cm  106.4cm   108.9cm   111.4cm   \n",
       "\n",
       "     4XO (5XL) 5XO (6XL) 6XO (7XL)  \n",
       "ウエスト    92.5cm    96.5cm   100.5cm  \n",
       "股下      82.4cm    83.9cm    85.4cm  \n",
       "股上      32.7cm    33.7cm    34.7cm  \n",
       "ヒップ      127cm     131cm     135cm  \n",
       "裾回り     42.5cm    43.5cm    44.5cm  \n",
       "パンツ丈   113.9cm   116.4cm   118.9cm  "
      ]
     },
     "execution_count": 50,
     "metadata": {},
     "output_type": "execute_result"
    }
   ],
   "source": [
    "df = pd.DataFrame.from_dict(rows, orient='index')\n",
    "df.columns=df. iloc[0]\n",
    "df = df.iloc[1:]\n",
    "timestr = time.strftime(\"%Y%m%d-%H%M%S\")\n",
    "df.to_csv('Tale of Size'+'-'+timestr+'.csv')\n",
    "df"
   ]
  },
  {
   "attachments": {},
   "cell_type": "markdown",
   "metadata": {},
   "source": [
    "## Rating"
   ]
  },
  {
   "cell_type": "code",
   "execution_count": 18,
   "metadata": {},
   "outputs": [
    {
     "name": "stdout",
     "output_type": "stream",
     "text": [
      "4.5\n"
     ]
    }
   ],
   "source": [
    "rating = soup.find(\"span\", {\"class\": \"BVRRNumber BVRRRatingNumber\"})\n",
    "print(rating.text)"
   ]
  },
  {
   "attachments": {},
   "cell_type": "markdown",
   "metadata": {},
   "source": [
    "## Number of Reviews"
   ]
  },
  {
   "cell_type": "code",
   "execution_count": 19,
   "metadata": {},
   "outputs": [
    {
     "name": "stdout",
     "output_type": "stream",
     "text": [
      "38\n"
     ]
    }
   ],
   "source": [
    "review = soup.find(\"span\", {\"class\": \"BVRRNumber BVRRBuyAgainTotal\"})\n",
    "print(review.text)"
   ]
  },
  {
   "attachments": {},
   "cell_type": "markdown",
   "metadata": {},
   "source": [
    "## Recommended rate"
   ]
  },
  {
   "cell_type": "code",
   "execution_count": 20,
   "metadata": {},
   "outputs": [
    {
     "name": "stdout",
     "output_type": "stream",
     "text": [
      "95%\n"
     ]
    }
   ],
   "source": [
    "recomadation = soup.find(\"span\", {\"class\": \"BVRRBuyAgainPercentage\"})\n",
    "print(recomadation.text)"
   ]
  },
  {
   "attachments": {},
   "cell_type": "markdown",
   "metadata": {},
   "source": [
    "# Review rating of each items, such as"
   ]
  },
  {
   "cell_type": "code",
   "execution_count": null,
   "metadata": {},
   "outputs": [],
   "source": [
    "RatingsContainer = soup.find_all(\"div\", {\"class\": \"BVRRSecondaryRatingsContainer\"})\n",
    "print(RatingsContainer)"
   ]
  },
  {
   "attachments": {},
   "cell_type": "markdown",
   "metadata": {},
   "source": [
    "## Sense of Fitting + its rating"
   ]
  },
  {
   "cell_type": "code",
   "execution_count": 30,
   "metadata": {},
   "outputs": [
    {
     "name": "stdout",
     "output_type": "stream",
     "text": [
      "タイトすぎる\n",
      "\n",
      "ルーズすぎる\n",
      "3.2 / 5\n"
     ]
    }
   ],
   "source": [
    "#RatingFit\n",
    "rf_cnt = soup.find(\"div\", {\"class\": \"BVRRRating BVRRRatingRadio BVRRRatingFit\"})\n",
    "#print(rf_cnt)\n",
    "\n",
    "for rf in rf_cnt:\n",
    "    print(rf.text)\n",
    "    \n",
    "rf_score = rf_cnt.find('img').get('title')\n",
    "print(rf_score)"
   ]
  },
  {
   "attachments": {},
   "cell_type": "markdown",
   "metadata": {},
   "source": [
    "## Appropriation of length + its rating"
   ]
  },
  {
   "cell_type": "code",
   "execution_count": 51,
   "metadata": {},
   "outputs": [
    {
     "name": "stdout",
     "output_type": "stream",
     "text": [
      "<div class=\"BVRRRating BVRRRatingRadio BVRRRatingLength\"><div class=\"BVRRLabel BVRRRatingRadioLabel1\">短すぎる</div><div class=\"BVRRRatingRadioImage\"><img alt=\"3.3 / 5\" class=\"BVImgOrSprite\" src=\"https://adidasjp.ugc.bazaarvoice.com/7896-ja_jp/3_3/5/ratingSlider.gif\" title=\"3.3 / 5\"/></div><div class=\"BVRRLabel BVRRRatingRadioLabel2\">長すぎる</div></div>\n",
      "短すぎる\n",
      "\n",
      "長すぎる\n",
      "3.3 / 5\n"
     ]
    }
   ],
   "source": [
    "#RatingLength\n",
    "rl_cnt = soup.find(\"div\", {\"class\": \"BVRRRating BVRRRatingRadio BVRRRatingLength\"})\n",
    "print(rl_cnt)\n",
    "for rl in rl_cnt:\n",
    "    print(rl.text)\n",
    "\n",
    "rl_score = rl_cnt.find('img').get('title')\n",
    "print(rl_score)"
   ]
  },
  {
   "attachments": {},
   "cell_type": "markdown",
   "metadata": {},
   "source": [
    "## Quality of material + its rating"
   ]
  },
  {
   "cell_type": "code",
   "execution_count": 36,
   "metadata": {},
   "outputs": [
    {
     "name": "stdout",
     "output_type": "stream",
     "text": [
      "低い\n",
      "\n",
      "高い\n",
      "4.2 / 5\n"
     ]
    }
   ],
   "source": [
    "#RatingQuality\n",
    "rq_cnt = soup.find(\"div\", {\"class\": \"BVRRRating BVRRRatingRadio BVRRRatingQuality\"})\n",
    "\n",
    "for rq in rq_cnt:\n",
    "    \n",
    "    print(rq.text)\n",
    "\n",
    "rq_score = rq_cnt.find('img').get('title')\n",
    "print(rq_score)"
   ]
  },
  {
   "attachments": {},
   "cell_type": "markdown",
   "metadata": {},
   "source": [
    "## Comfort + its rating"
   ]
  },
  {
   "cell_type": "code",
   "execution_count": 33,
   "metadata": {},
   "outputs": [
    {
     "name": "stdout",
     "output_type": "stream",
     "text": [
      "全く快適ではない\n",
      "\n",
      "とても快適\n",
      "4.4 / 5\n"
     ]
    }
   ],
   "source": [
    "#RatingComfort\n",
    "rc_cnt = soup.find(\"div\", {\"class\": \"BVRRRating BVRRRatingRadio BVRRRatingComfort\"})\n",
    "\n",
    "for rc in rc_cnt:\n",
    "    print(rc.text)\n",
    "    \n",
    "rc_score = rc_cnt.find('img').get('title')\n",
    "print(rc_score)"
   ]
  },
  {
   "cell_type": "markdown",
   "metadata": {},
   "source": []
  },
  {
   "cell_type": "markdown",
   "metadata": {},
   "source": []
  },
  {
   "attachments": {},
   "cell_type": "markdown",
   "metadata": {},
   "source": [
    "## KW"
   ]
  },
  {
   "cell_type": "code",
   "execution_count": 23,
   "metadata": {},
   "outputs": [
    {
     "name": "stdout",
     "output_type": "stream",
     "text": [
      "ウェア・服\n",
      "ボトムス\n",
      "ジャージ\n",
      "パンツ\n",
      "オリジナルス\n",
      "パーレイ\n",
      "アディカラー クラシック\n",
      "ルームウェア\n",
      "パーレイ\n",
      "プライムブルー\n",
      "プライムグリーン\n",
      "リサイクル素材\n",
      "14245\n"
     ]
    }
   ],
   "source": [
    "kw = soup.find(\"div\", {\"class\": \"test-category_link null css-vxqsdw\"})\n",
    "#print(kw)\n",
    "for link in kw.find_all('a'):\n",
    "    print(link.text)"
   ]
  }
 ],
 "metadata": {
  "kernelspec": {
   "display_name": "Python 3",
   "language": "python",
   "name": "python3"
  },
  "language_info": {
   "codemirror_mode": {
    "name": "ipython",
    "version": 3
   },
   "file_extension": ".py",
   "mimetype": "text/x-python",
   "name": "python",
   "nbconvert_exporter": "python",
   "pygments_lexer": "ipython3",
   "version": "3.10.8"
  },
  "orig_nbformat": 4
 },
 "nbformat": 4,
 "nbformat_minor": 2
}
